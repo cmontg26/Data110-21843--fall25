{
  "nbformat": 4,
  "nbformat_minor": 0,
  "metadata": {
    "colab": {
      "private_outputs": true,
      "provenance": [],
      "authorship_tag": "ABX9TyNjrnoLFbUz3KlhHJ2O8cxJ",
      "include_colab_link": true
    },
    "kernelspec": {
      "name": "python3",
      "display_name": "Python 3"
    },
    "language_info": {
      "name": "python"
    }
  },
  "cells": [
    {
      "cell_type": "markdown",
      "metadata": {
        "id": "view-in-github",
        "colab_type": "text"
      },
      "source": [
        "<a href=\"https://colab.research.google.com/github/Reben80/Data110-21843--fall25/blob/main/test_save_in_google_drive_and_google_drive.ipynb\" target=\"_parent\"><img src=\"https://colab.research.google.com/assets/colab-badge.svg\" alt=\"Open In Colab\"/></a>"
      ]
    },
    {
      "cell_type": "code",
      "source": [
        "print(\" Hellow, World\")"
      ],
      "metadata": {
        "id": "wuvCydjZ5UHg"
      },
      "execution_count": null,
      "outputs": []
    },
    {
      "cell_type": "code",
      "source": [
        "# this will be for comment, 2**4 means 2^4=16\n",
        "print(2**4)\n"
      ],
      "metadata": {
        "id": "JHLDEL2h5hCb"
      },
      "execution_count": null,
      "outputs": []
    },
    {
      "cell_type": "code",
      "source": [
        "print(2*6)"
      ],
      "metadata": {
        "id": "cWFyqBzg7jO6"
      },
      "execution_count": null,
      "outputs": []
    }
  ]
}