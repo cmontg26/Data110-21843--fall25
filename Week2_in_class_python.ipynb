{
  "nbformat": 4,
  "nbformat_minor": 0,
  "metadata": {
    "colab": {
      "private_outputs": true,
      "provenance": [],
      "authorship_tag": "ABX9TyOu4NbSkgW9FtOL5RFK+6u1",
      "include_colab_link": true
    },
    "kernelspec": {
      "name": "python3",
      "display_name": "Python 3"
    },
    "language_info": {
      "name": "python"
    }
  },
  "cells": [
    {
      "cell_type": "markdown",
      "metadata": {
        "id": "view-in-github",
        "colab_type": "text"
      },
      "source": [
        "<a href=\"https://colab.research.google.com/github/Reben80/Data110-21843--fall25/blob/main/Week2_in_class_python.ipynb\" target=\"_parent\"><img src=\"https://colab.research.google.com/assets/colab-badge.svg\" alt=\"Open In Colab\"/></a>"
      ]
    },
    {
      "cell_type": "markdown",
      "source": [
        "lets add some libraries"
      ],
      "metadata": {
        "id": "CTK8RnCU9ZWs"
      }
    },
    {
      "cell_type": "code",
      "source": [
        "# matplot is for data vizualizaion\n",
        "import matplotlib.pyplot as plt\n",
        "# to work with array, numerical calculation\n",
        "import numpy as np\n",
        "# for dataframe\n",
        "import pandas as pd\n"
      ],
      "metadata": {
        "id": "OsY6kz-T9dl-"
      },
      "execution_count": null,
      "outputs": []
    },
    {
      "cell_type": "code",
      "source": [],
      "metadata": {
        "id": "fFavv_ew-L4g"
      },
      "execution_count": null,
      "outputs": []
    },
    {
      "cell_type": "markdown",
      "source": [
        "Now, we need to add dataset..."
      ],
      "metadata": {
        "id": "TWCX8k1b-lwt"
      }
    },
    {
      "cell_type": "code",
      "source": [
        "df=pd.read_csv('/content/happiness.csv')"
      ],
      "metadata": {
        "id": "gPBlXwBA-om-"
      },
      "execution_count": null,
      "outputs": []
    },
    {
      "cell_type": "code",
      "source": [],
      "metadata": {
        "id": "kg2eevmj_YTh"
      },
      "execution_count": null,
      "outputs": []
    }
  ]
}