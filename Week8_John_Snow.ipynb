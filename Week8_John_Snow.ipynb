{
  "nbformat": 4,
  "nbformat_minor": 0,
  "metadata": {
    "colab": {
      "private_outputs": true,
      "provenance": [],
      "authorship_tag": "ABX9TyPrtNCaSwVcmKYN04pMkRGB",
      "include_colab_link": true
    },
    "kernelspec": {
      "name": "python3",
      "display_name": "Python 3"
    },
    "language_info": {
      "name": "python"
    }
  },
  "cells": [
    {
      "cell_type": "markdown",
      "metadata": {
        "id": "view-in-github",
        "colab_type": "text"
      },
      "source": [
        "<a href=\"https://colab.research.google.com/github/Reben80/Data110-21843--fall25/blob/main/Week8_John_Snow.ipynb\" target=\"_parent\"><img src=\"https://colab.research.google.com/assets/colab-badge.svg\" alt=\"Open In Colab\"/></a>"
      ]
    },
    {
      "cell_type": "code",
      "execution_count": null,
      "metadata": {
        "id": "pOz32fWrFq0c"
      },
      "outputs": [],
      "source": [
        "import pandas as pd\n",
        "import matplotlib.pyplot as plt"
      ]
    },
    {
      "cell_type": "code",
      "source": [
        "pump_df = pd.read_csv('https://raw.githubusercontent.com/Reben80/Data110-21843--fall25/refs/heads/main/dataset/pumps.csv')"
      ],
      "metadata": {
        "id": "49-hGHE8H-1p"
      },
      "execution_count": null,
      "outputs": []
    },
    {
      "cell_type": "code",
      "source": [
        "pump_df.head()"
      ],
      "metadata": {
        "id": "4dim6ugMID79"
      },
      "execution_count": null,
      "outputs": []
    },
    {
      "cell_type": "code",
      "source": [
        "death_df=pd.read_csv('https://raw.githubusercontent.com/Reben80/Data110-21843--fall25/refs/heads/main/dataset/deaths.csv')"
      ],
      "metadata": {
        "id": "hRxYVxzCIMKK"
      },
      "execution_count": null,
      "outputs": []
    },
    {
      "cell_type": "code",
      "source": [
        "death_df.head()"
      ],
      "metadata": {
        "id": "w7fwWHdIIQ3E"
      },
      "execution_count": null,
      "outputs": []
    },
    {
      "cell_type": "code",
      "source": [
        "death_df.plot(x='X',y='Y',kind='scatter')"
      ],
      "metadata": {
        "id": "MUCCB2R0Ifk5"
      },
      "execution_count": null,
      "outputs": []
    },
    {
      "cell_type": "code",
      "source": [
        "pump_df.plot(x='X',y='Y',color='red',kind='scatter')"
      ],
      "metadata": {
        "id": "tE8yvO2qIvp2"
      },
      "execution_count": null,
      "outputs": []
    },
    {
      "cell_type": "code",
      "source": [
        "death_df.plot(x='X', y='Y', kind='scatter', label='Deaths', s=2, c='blue')\n",
        "pump_df.plot(x='X', y='Y', kind='scatter', c='red', s=8, label='Pumps')"
      ],
      "metadata": {
        "id": "j5eij0TqJEa2"
      },
      "execution_count": null,
      "outputs": []
    },
    {
      "cell_type": "code",
      "source": [
        "ax=death_df.plot(x='X', y='Y', kind='scatter', label='Deaths', s=2, c='blue')\n",
        "\n",
        "pump_df.plot(x='X', y='Y', kind='scatter', c='red', s=8,label='Pump',ax=ax)"
      ],
      "metadata": {
        "id": "pRaNbDA2JrK1"
      },
      "execution_count": null,
      "outputs": []
    },
    {
      "cell_type": "code",
      "source": [
        "from scipy.spatial import Voronoi, voronoi_plot_2d"
      ],
      "metadata": {
        "id": "qefYnXw3Mnse"
      },
      "execution_count": null,
      "outputs": []
    },
    {
      "cell_type": "code",
      "source": [
        "points=pump_df[['X','Y']].values\n",
        "print(points)"
      ],
      "metadata": {
        "id": "YYLlP4TeMsrv"
      },
      "execution_count": null,
      "outputs": []
    },
    {
      "cell_type": "code",
      "source": [
        "vor=Voronoi(points)\n",
        "print(vor)"
      ],
      "metadata": {
        "id": "aSVbhOZfNCpj"
      },
      "execution_count": null,
      "outputs": []
    },
    {
      "cell_type": "code",
      "source": [
        "plt.subplot(1,2,2)\n",
        "ax1=plt.scatter(points[:,0],points[:,1])\n",
        "ax2=plt.scatter(points[:,0],points[:,1])\n",
        "plt.show()"
      ],
      "metadata": {
        "id": "fM9YD_LSNNpC"
      },
      "execution_count": null,
      "outputs": []
    },
    {
      "cell_type": "code",
      "source": [
        "# Build Voronoi diagram\n",
        "vor = Voronoi(points)\n",
        "\n",
        "# Plot Voronoi cells and add deaths/pumps\n",
        "fig = plt.figure(figsize=(8, 8))\n",
        "ax = fig.add_subplot(111)\n",
        "ax=voronoi_plot_2d(vor,ax=ax,show_vertices=False)\n",
        "\n",
        "# Plot deaths and pumps\n",
        "ax.scatter(death_df[\"X\"], death_df[\"Y\"], s=10, color='blue', alpha=0.5, label=\"Deaths\")\n",
        "#ax.scatter(pump_df[\"X\"], pump_df[\"Y\"], s=100, color='red', marker='^', label=\"Pumps\")\n",
        "\n",
        "plt.show()"
      ],
      "metadata": {
        "id": "ut0fJz1FORmF"
      },
      "execution_count": null,
      "outputs": []
    },
    {
      "cell_type": "code",
      "source": [
        "# Create array of pump coordinates\n",
        "points = pump_df[[\"X\", \"Y\"]].values\n",
        "\n",
        "# Build Voronoi diagram\n",
        "vor = Voronoi(points)\n",
        "\n",
        "# Plot Voronoi cells and add deaths/pumps\n",
        "fig = plt.figure(figsize=(8, 8))\n",
        "ax = fig.add_subplot(111)\n",
        "\n",
        "# Draw the Voronoi diagram\n",
        "voronoi_plot_2d(vor, ax=ax, show_vertices=False, line_colors='gray', line_alpha=0.7,color='red')\n",
        "\n",
        "# Plot deaths and pumps\n",
        "ax.scatter(death_df[\"X\"], death_df[\"Y\"], s=10, color='blue', alpha=0.5, label=\"Deaths\")\n",
        "ax.scatter(pump_df[\"X\"], pump_df[\"Y\"], s=100, color='red', marker='^', label=\"Pumps\")\n",
        "\n",
        "\n",
        "plt.show()\n"
      ],
      "metadata": {
        "id": "D8bLc8VeQBrt"
      },
      "execution_count": null,
      "outputs": []
    }
  ]
}